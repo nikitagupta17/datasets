{
  "nbformat": 4,
  "nbformat_minor": 0,
  "metadata": {
    "colab": {
      "name": "ANN.ipynb",
      "provenance": [],
      "mount_file_id": "1G-xOk8ebzUbJlh8HaVMxlF_1efWTltH1",
      "authorship_tag": "ABX9TyNUzz2SD6+6YYJVXToiao43",
      "include_colab_link": true
    },
    "kernelspec": {
      "name": "python3",
      "display_name": "Python 3"
    }
  },
  "cells": [
    {
      "cell_type": "markdown",
      "metadata": {
        "id": "view-in-github",
        "colab_type": "text"
      },
      "source": [
        "<a href=\"https://colab.research.google.com/github/nikitagupta17/datasets/blob/master/ANN.ipynb\" target=\"_parent\"><img src=\"https://colab.research.google.com/assets/colab-badge.svg\" alt=\"Open In Colab\"/></a>"
      ]
    },
    {
      "cell_type": "code",
      "metadata": {
        "id": "9Y5B2XOK5vPQ",
        "colab_type": "code",
        "colab": {}
      },
      "source": [
        "# Importing the libraries\n",
        "import numpy as np\n",
        "import matplotlib.pyplot as plt\n",
        "import pandas as pd\n"
      ],
      "execution_count": 0,
      "outputs": []
    },
    {
      "cell_type": "code",
      "metadata": {
        "id": "Tl9hGkvn52N0",
        "colab_type": "code",
        "colab": {}
      },
      "source": [
        "# Importing the dataset\n",
        "dataset = pd.read_csv('/content/drive/My Drive/Colab Notebooks/Churn_Modelling.csv')\n",
        "X = dataset.iloc[:, 3:13]\n",
        "y = dataset.iloc[:, 13]"
      ],
      "execution_count": 0,
      "outputs": []
    },
    {
      "cell_type": "code",
      "metadata": {
        "id": "Z9lyi6556EM2",
        "colab_type": "code",
        "colab": {
          "base_uri": "https://localhost:8080/",
          "height": 54
        },
        "outputId": "9a0bba58-9d66-4c52-9bd9-30ad43de9962"
      },
      "source": [
        "from google.colab import drive\n",
        "drive.mount('/content/drive')"
      ],
      "execution_count": 4,
      "outputs": [
        {
          "output_type": "stream",
          "text": [
            "Drive already mounted at /content/drive; to attempt to forcibly remount, call drive.mount(\"/content/drive\", force_remount=True).\n"
          ],
          "name": "stdout"
        }
      ]
    },
    {
      "cell_type": "code",
      "metadata": {
        "id": "Ml0_n0M96ShW",
        "colab_type": "code",
        "colab": {
          "base_uri": "https://localhost:8080/",
          "height": 204
        },
        "outputId": "91eccf79-3de2-4b10-b75e-c2c47e2abda9"
      },
      "source": [
        "X.head()"
      ],
      "execution_count": 7,
      "outputs": [
        {
          "output_type": "execute_result",
          "data": {
            "text/html": [
              "<div>\n",
              "<style scoped>\n",
              "    .dataframe tbody tr th:only-of-type {\n",
              "        vertical-align: middle;\n",
              "    }\n",
              "\n",
              "    .dataframe tbody tr th {\n",
              "        vertical-align: top;\n",
              "    }\n",
              "\n",
              "    .dataframe thead th {\n",
              "        text-align: right;\n",
              "    }\n",
              "</style>\n",
              "<table border=\"1\" class=\"dataframe\">\n",
              "  <thead>\n",
              "    <tr style=\"text-align: right;\">\n",
              "      <th></th>\n",
              "      <th>CreditScore</th>\n",
              "      <th>Geography</th>\n",
              "      <th>Gender</th>\n",
              "      <th>Age</th>\n",
              "      <th>Tenure</th>\n",
              "      <th>Balance</th>\n",
              "      <th>NumOfProducts</th>\n",
              "      <th>HasCrCard</th>\n",
              "      <th>IsActiveMember</th>\n",
              "      <th>EstimatedSalary</th>\n",
              "    </tr>\n",
              "  </thead>\n",
              "  <tbody>\n",
              "    <tr>\n",
              "      <th>0</th>\n",
              "      <td>619</td>\n",
              "      <td>France</td>\n",
              "      <td>Female</td>\n",
              "      <td>42</td>\n",
              "      <td>2</td>\n",
              "      <td>0.00</td>\n",
              "      <td>1</td>\n",
              "      <td>1</td>\n",
              "      <td>1</td>\n",
              "      <td>101348.88</td>\n",
              "    </tr>\n",
              "    <tr>\n",
              "      <th>1</th>\n",
              "      <td>608</td>\n",
              "      <td>Spain</td>\n",
              "      <td>Female</td>\n",
              "      <td>41</td>\n",
              "      <td>1</td>\n",
              "      <td>83807.86</td>\n",
              "      <td>1</td>\n",
              "      <td>0</td>\n",
              "      <td>1</td>\n",
              "      <td>112542.58</td>\n",
              "    </tr>\n",
              "    <tr>\n",
              "      <th>2</th>\n",
              "      <td>502</td>\n",
              "      <td>France</td>\n",
              "      <td>Female</td>\n",
              "      <td>42</td>\n",
              "      <td>8</td>\n",
              "      <td>159660.80</td>\n",
              "      <td>3</td>\n",
              "      <td>1</td>\n",
              "      <td>0</td>\n",
              "      <td>113931.57</td>\n",
              "    </tr>\n",
              "    <tr>\n",
              "      <th>3</th>\n",
              "      <td>699</td>\n",
              "      <td>France</td>\n",
              "      <td>Female</td>\n",
              "      <td>39</td>\n",
              "      <td>1</td>\n",
              "      <td>0.00</td>\n",
              "      <td>2</td>\n",
              "      <td>0</td>\n",
              "      <td>0</td>\n",
              "      <td>93826.63</td>\n",
              "    </tr>\n",
              "    <tr>\n",
              "      <th>4</th>\n",
              "      <td>850</td>\n",
              "      <td>Spain</td>\n",
              "      <td>Female</td>\n",
              "      <td>43</td>\n",
              "      <td>2</td>\n",
              "      <td>125510.82</td>\n",
              "      <td>1</td>\n",
              "      <td>1</td>\n",
              "      <td>1</td>\n",
              "      <td>79084.10</td>\n",
              "    </tr>\n",
              "  </tbody>\n",
              "</table>\n",
              "</div>"
            ],
            "text/plain": [
              "   CreditScore Geography  Gender  ...  HasCrCard  IsActiveMember  EstimatedSalary\n",
              "0          619    France  Female  ...          1               1        101348.88\n",
              "1          608     Spain  Female  ...          0               1        112542.58\n",
              "2          502    France  Female  ...          1               0        113931.57\n",
              "3          699    France  Female  ...          0               0         93826.63\n",
              "4          850     Spain  Female  ...          1               1         79084.10\n",
              "\n",
              "[5 rows x 10 columns]"
            ]
          },
          "metadata": {
            "tags": []
          },
          "execution_count": 7
        }
      ]
    },
    {
      "cell_type": "code",
      "metadata": {
        "id": "3uRljrW96dm6",
        "colab_type": "code",
        "colab": {}
      },
      "source": [
        "#Create dummy variables\n",
        "geography=pd.get_dummies(X[\"Geography\"],drop_first=True)\n",
        "gender=pd.get_dummies(X['Gender'],drop_first=True)"
      ],
      "execution_count": 0,
      "outputs": []
    },
    {
      "cell_type": "code",
      "metadata": {
        "id": "AJluwZzZ6j13",
        "colab_type": "code",
        "colab": {}
      },
      "source": [
        "## Concatenate the Data Frames\n",
        "\n",
        "X=pd.concat([X,geography,gender],axis=1)\n",
        "\n",
        "## Drop Unnecessary columns\n",
        "X=X.drop(['Geography','Gender'],axis=1)\n",
        "\n",
        "# Splitting the dataset into the Training set and Test set\n",
        "from sklearn.model_selection import train_test_split\n",
        "X_train, X_test, y_train, y_test = train_test_split(X, y, test_size = 0.2, random_state = 0)"
      ],
      "execution_count": 0,
      "outputs": []
    },
    {
      "cell_type": "code",
      "metadata": {
        "id": "zjEQ4Bwz6nRi",
        "colab_type": "code",
        "colab": {}
      },
      "source": [
        "# Feature Scaling\n",
        "from sklearn.preprocessing import StandardScaler\n",
        "sc = StandardScaler()\n",
        "X_train = sc.fit_transform(X_train)\n",
        "X_test = sc.transform(X_test)"
      ],
      "execution_count": 0,
      "outputs": []
    },
    {
      "cell_type": "code",
      "metadata": {
        "id": "NWawcwYG6qtP",
        "colab_type": "code",
        "colab": {
          "base_uri": "https://localhost:8080/",
          "height": 34
        },
        "outputId": "4a92aebb-80aa-4a01-ec79-d73284af403e"
      },
      "source": [
        "# Importing the Keras libraries and packages\n",
        "import keras\n",
        "from keras.models import Sequential\n",
        "from keras.layers import Dense\n",
        "from keras.layers import LeakyReLU,PReLU,ELU\n",
        "from keras.layers import Dropout"
      ],
      "execution_count": 11,
      "outputs": [
        {
          "output_type": "stream",
          "text": [
            "Using TensorFlow backend.\n"
          ],
          "name": "stderr"
        }
      ]
    },
    {
      "cell_type": "code",
      "metadata": {
        "id": "TfFEfL3D6vOS",
        "colab_type": "code",
        "colab": {
          "base_uri": "https://localhost:8080/",
          "height": 71
        },
        "outputId": "6c0b56d0-1b9d-4ec8-d381-34fbe15c80e9"
      },
      "source": [
        "# Initialising the ANN\n",
        "classifier = Sequential()\n",
        "\n",
        "# Adding the input layer and the first hidden layer\n",
        "classifier.add(Dense(output_dim = 6, init = 'he_uniform',activation='relu',input_dim = 11))\n"
      ],
      "execution_count": 12,
      "outputs": [
        {
          "output_type": "stream",
          "text": [
            "/usr/local/lib/python3.6/dist-packages/ipykernel_launcher.py:4: UserWarning: Update your `Dense` call to the Keras 2 API: `Dense(activation=\"relu\", input_dim=11, units=6, kernel_initializer=\"he_uniform\")`\n",
            "  after removing the cwd from sys.path.\n"
          ],
          "name": "stderr"
        }
      ]
    },
    {
      "cell_type": "code",
      "metadata": {
        "id": "RwP6JOOn6zbn",
        "colab_type": "code",
        "colab": {
          "base_uri": "https://localhost:8080/",
          "height": 105
        },
        "outputId": "78c112a4-c0a5-44d7-e7ab-15696e565ee5"
      },
      "source": [
        "# Adding the second hidden layer\n",
        "classifier.add(Dense(output_dim = 6, init = 'he_uniform',activation='relu'))\n",
        "# Adding the output layer\n",
        "classifier.add(Dense(output_dim = 1, init = 'glorot_uniform', activation = 'sigmoid'))\n",
        "\n",
        "# Compiling the ANN\n",
        "classifier.compile(optimizer = 'Adamax', loss = 'binary_crossentropy', metrics = ['accuracy'])\n",
        "\n"
      ],
      "execution_count": 13,
      "outputs": [
        {
          "output_type": "stream",
          "text": [
            "/usr/local/lib/python3.6/dist-packages/ipykernel_launcher.py:1: UserWarning: Update your `Dense` call to the Keras 2 API: `Dense(activation=\"relu\", units=6, kernel_initializer=\"he_uniform\")`\n",
            "  \"\"\"Entry point for launching an IPython kernel.\n",
            "/usr/local/lib/python3.6/dist-packages/ipykernel_launcher.py:3: UserWarning: Update your `Dense` call to the Keras 2 API: `Dense(activation=\"sigmoid\", units=1, kernel_initializer=\"glorot_uniform\")`\n",
            "  This is separate from the ipykernel package so we can avoid doing imports until\n"
          ],
          "name": "stderr"
        }
      ]
    },
    {
      "cell_type": "code",
      "metadata": {
        "id": "-AqrpWyY656X",
        "colab_type": "code",
        "colab": {
          "base_uri": "https://localhost:8080/",
          "height": 1000
        },
        "outputId": "038cccd7-7626-4751-8773-7d5ec904d9e2"
      },
      "source": [
        "# Fitting the ANN to the Training set\n",
        "model_history=classifier.fit(X_train, y_train,validation_split=0.33, batch_size = 10, nb_epoch = 100)\n",
        "\n"
      ],
      "execution_count": 15,
      "outputs": [
        {
          "output_type": "stream",
          "text": [
            "Train on 5359 samples, validate on 2641 samples\n",
            "Epoch 1/100\n",
            "1490/5359 [=======>......................] - ETA: 0s - loss: 0.3254 - accuracy: 0.8658"
          ],
          "name": "stdout"
        },
        {
          "output_type": "stream",
          "text": [
            "/usr/local/lib/python3.6/dist-packages/ipykernel_launcher.py:1: UserWarning: The `nb_epoch` argument in `fit` has been renamed `epochs`.\n",
            "  \"\"\"Entry point for launching an IPython kernel.\n"
          ],
          "name": "stderr"
        },
        {
          "output_type": "stream",
          "text": [
            "5359/5359 [==============================] - 1s 136us/step - loss: 0.3271 - accuracy: 0.8651 - val_loss: 0.3494 - val_accuracy: 0.8610\n",
            "Epoch 2/100\n",
            "5359/5359 [==============================] - 1s 139us/step - loss: 0.3271 - accuracy: 0.8651 - val_loss: 0.3496 - val_accuracy: 0.8595\n",
            "Epoch 3/100\n",
            "5359/5359 [==============================] - 1s 136us/step - loss: 0.3269 - accuracy: 0.8651 - val_loss: 0.3511 - val_accuracy: 0.8607\n",
            "Epoch 4/100\n",
            "5359/5359 [==============================] - 1s 140us/step - loss: 0.3273 - accuracy: 0.8636 - val_loss: 0.3498 - val_accuracy: 0.8595\n",
            "Epoch 5/100\n",
            "5359/5359 [==============================] - 1s 137us/step - loss: 0.3274 - accuracy: 0.8647 - val_loss: 0.3499 - val_accuracy: 0.8622\n",
            "Epoch 6/100\n",
            "5359/5359 [==============================] - 1s 144us/step - loss: 0.3270 - accuracy: 0.8653 - val_loss: 0.3502 - val_accuracy: 0.8603\n",
            "Epoch 7/100\n",
            "5359/5359 [==============================] - 1s 143us/step - loss: 0.3271 - accuracy: 0.8653 - val_loss: 0.3503 - val_accuracy: 0.8599\n",
            "Epoch 8/100\n",
            "5359/5359 [==============================] - 1s 146us/step - loss: 0.3270 - accuracy: 0.8636 - val_loss: 0.3501 - val_accuracy: 0.8610\n",
            "Epoch 9/100\n",
            "5359/5359 [==============================] - 1s 144us/step - loss: 0.3271 - accuracy: 0.8642 - val_loss: 0.3498 - val_accuracy: 0.8614\n",
            "Epoch 10/100\n",
            "5359/5359 [==============================] - 1s 144us/step - loss: 0.3270 - accuracy: 0.8655 - val_loss: 0.3504 - val_accuracy: 0.8599\n",
            "Epoch 11/100\n",
            "5359/5359 [==============================] - 1s 143us/step - loss: 0.3265 - accuracy: 0.8666 - val_loss: 0.3509 - val_accuracy: 0.8591\n",
            "Epoch 12/100\n",
            "5359/5359 [==============================] - 1s 145us/step - loss: 0.3269 - accuracy: 0.8647 - val_loss: 0.3501 - val_accuracy: 0.8599\n",
            "Epoch 13/100\n",
            "5359/5359 [==============================] - 1s 134us/step - loss: 0.3266 - accuracy: 0.8655 - val_loss: 0.3503 - val_accuracy: 0.8595\n",
            "Epoch 14/100\n",
            "5359/5359 [==============================] - 1s 136us/step - loss: 0.3268 - accuracy: 0.8645 - val_loss: 0.3503 - val_accuracy: 0.8603\n",
            "Epoch 15/100\n",
            "5359/5359 [==============================] - 1s 135us/step - loss: 0.3268 - accuracy: 0.8651 - val_loss: 0.3504 - val_accuracy: 0.8614\n",
            "Epoch 16/100\n",
            "5359/5359 [==============================] - 1s 136us/step - loss: 0.3267 - accuracy: 0.8662 - val_loss: 0.3503 - val_accuracy: 0.8607\n",
            "Epoch 17/100\n",
            "5359/5359 [==============================] - 1s 136us/step - loss: 0.3266 - accuracy: 0.8643 - val_loss: 0.3501 - val_accuracy: 0.8603\n",
            "Epoch 18/100\n",
            "5359/5359 [==============================] - 1s 137us/step - loss: 0.3268 - accuracy: 0.8662 - val_loss: 0.3503 - val_accuracy: 0.8607\n",
            "Epoch 19/100\n",
            "5359/5359 [==============================] - 1s 135us/step - loss: 0.3265 - accuracy: 0.8643 - val_loss: 0.3503 - val_accuracy: 0.8607\n",
            "Epoch 20/100\n",
            "5359/5359 [==============================] - 1s 135us/step - loss: 0.3265 - accuracy: 0.8647 - val_loss: 0.3501 - val_accuracy: 0.8614\n",
            "Epoch 21/100\n",
            "5359/5359 [==============================] - 1s 135us/step - loss: 0.3266 - accuracy: 0.8655 - val_loss: 0.3503 - val_accuracy: 0.8603\n",
            "Epoch 22/100\n",
            "5359/5359 [==============================] - 1s 135us/step - loss: 0.3264 - accuracy: 0.8658 - val_loss: 0.3509 - val_accuracy: 0.8607\n",
            "Epoch 23/100\n",
            "5359/5359 [==============================] - 1s 136us/step - loss: 0.3265 - accuracy: 0.8651 - val_loss: 0.3501 - val_accuracy: 0.8610\n",
            "Epoch 24/100\n",
            "5359/5359 [==============================] - 1s 134us/step - loss: 0.3265 - accuracy: 0.8634 - val_loss: 0.3503 - val_accuracy: 0.8607\n",
            "Epoch 25/100\n",
            "5359/5359 [==============================] - 1s 135us/step - loss: 0.3263 - accuracy: 0.8653 - val_loss: 0.3502 - val_accuracy: 0.8610\n",
            "Epoch 26/100\n",
            "5359/5359 [==============================] - 1s 134us/step - loss: 0.3265 - accuracy: 0.8662 - val_loss: 0.3507 - val_accuracy: 0.8610\n",
            "Epoch 27/100\n",
            "5359/5359 [==============================] - 1s 138us/step - loss: 0.3260 - accuracy: 0.8658 - val_loss: 0.3508 - val_accuracy: 0.8610\n",
            "Epoch 28/100\n",
            "5359/5359 [==============================] - 1s 137us/step - loss: 0.3263 - accuracy: 0.8679 - val_loss: 0.3504 - val_accuracy: 0.8607\n",
            "Epoch 29/100\n",
            "5359/5359 [==============================] - 1s 134us/step - loss: 0.3262 - accuracy: 0.8668 - val_loss: 0.3501 - val_accuracy: 0.8614\n",
            "Epoch 30/100\n",
            "5359/5359 [==============================] - 1s 137us/step - loss: 0.3264 - accuracy: 0.8658 - val_loss: 0.3501 - val_accuracy: 0.8614\n",
            "Epoch 31/100\n",
            "5359/5359 [==============================] - 1s 134us/step - loss: 0.3263 - accuracy: 0.8658 - val_loss: 0.3504 - val_accuracy: 0.8622\n",
            "Epoch 32/100\n",
            "5359/5359 [==============================] - 1s 136us/step - loss: 0.3264 - accuracy: 0.8662 - val_loss: 0.3504 - val_accuracy: 0.8626\n",
            "Epoch 33/100\n",
            "5359/5359 [==============================] - 1s 135us/step - loss: 0.3260 - accuracy: 0.8649 - val_loss: 0.3508 - val_accuracy: 0.8610\n",
            "Epoch 34/100\n",
            "5359/5359 [==============================] - 1s 135us/step - loss: 0.3261 - accuracy: 0.8645 - val_loss: 0.3505 - val_accuracy: 0.8595\n",
            "Epoch 35/100\n",
            "5359/5359 [==============================] - 1s 139us/step - loss: 0.3263 - accuracy: 0.8662 - val_loss: 0.3511 - val_accuracy: 0.8614\n",
            "Epoch 36/100\n",
            "5359/5359 [==============================] - 1s 133us/step - loss: 0.3259 - accuracy: 0.8662 - val_loss: 0.3506 - val_accuracy: 0.8610\n",
            "Epoch 37/100\n",
            "5359/5359 [==============================] - 1s 136us/step - loss: 0.3260 - accuracy: 0.8642 - val_loss: 0.3503 - val_accuracy: 0.8607\n",
            "Epoch 38/100\n",
            "5359/5359 [==============================] - 1s 134us/step - loss: 0.3259 - accuracy: 0.8662 - val_loss: 0.3505 - val_accuracy: 0.8618\n",
            "Epoch 39/100\n",
            "5359/5359 [==============================] - 1s 137us/step - loss: 0.3259 - accuracy: 0.8653 - val_loss: 0.3506 - val_accuracy: 0.8610\n",
            "Epoch 40/100\n",
            "5359/5359 [==============================] - 1s 134us/step - loss: 0.3262 - accuracy: 0.8655 - val_loss: 0.3506 - val_accuracy: 0.8626\n",
            "Epoch 41/100\n",
            "5359/5359 [==============================] - 1s 135us/step - loss: 0.3259 - accuracy: 0.8656 - val_loss: 0.3505 - val_accuracy: 0.8618\n",
            "Epoch 42/100\n",
            "5359/5359 [==============================] - 1s 137us/step - loss: 0.3259 - accuracy: 0.8651 - val_loss: 0.3508 - val_accuracy: 0.8607\n",
            "Epoch 43/100\n",
            "5359/5359 [==============================] - 1s 142us/step - loss: 0.3257 - accuracy: 0.8671 - val_loss: 0.3509 - val_accuracy: 0.8603\n",
            "Epoch 44/100\n",
            "5359/5359 [==============================] - 1s 134us/step - loss: 0.3257 - accuracy: 0.8671 - val_loss: 0.3506 - val_accuracy: 0.8603\n",
            "Epoch 45/100\n",
            "5359/5359 [==============================] - 1s 136us/step - loss: 0.3255 - accuracy: 0.8655 - val_loss: 0.3509 - val_accuracy: 0.8599\n",
            "Epoch 46/100\n",
            "5359/5359 [==============================] - 1s 136us/step - loss: 0.3257 - accuracy: 0.8649 - val_loss: 0.3507 - val_accuracy: 0.8626\n",
            "Epoch 47/100\n",
            "5359/5359 [==============================] - 1s 135us/step - loss: 0.3254 - accuracy: 0.8670 - val_loss: 0.3509 - val_accuracy: 0.8588\n",
            "Epoch 48/100\n",
            "5359/5359 [==============================] - 1s 135us/step - loss: 0.3257 - accuracy: 0.8675 - val_loss: 0.3506 - val_accuracy: 0.8614\n",
            "Epoch 49/100\n",
            "5359/5359 [==============================] - 1s 138us/step - loss: 0.3254 - accuracy: 0.8668 - val_loss: 0.3506 - val_accuracy: 0.8614\n",
            "Epoch 50/100\n",
            "5359/5359 [==============================] - 1s 138us/step - loss: 0.3256 - accuracy: 0.8670 - val_loss: 0.3509 - val_accuracy: 0.8607\n",
            "Epoch 51/100\n",
            "5359/5359 [==============================] - 1s 134us/step - loss: 0.3256 - accuracy: 0.8660 - val_loss: 0.3514 - val_accuracy: 0.8614\n",
            "Epoch 52/100\n",
            "5359/5359 [==============================] - 1s 136us/step - loss: 0.3254 - accuracy: 0.8666 - val_loss: 0.3513 - val_accuracy: 0.8618\n",
            "Epoch 53/100\n",
            "5359/5359 [==============================] - 1s 135us/step - loss: 0.3254 - accuracy: 0.8645 - val_loss: 0.3514 - val_accuracy: 0.8591\n",
            "Epoch 54/100\n",
            "5359/5359 [==============================] - 1s 134us/step - loss: 0.3254 - accuracy: 0.8660 - val_loss: 0.3515 - val_accuracy: 0.8614\n",
            "Epoch 55/100\n",
            "5359/5359 [==============================] - 1s 136us/step - loss: 0.3255 - accuracy: 0.8660 - val_loss: 0.3509 - val_accuracy: 0.8614\n",
            "Epoch 56/100\n",
            "5359/5359 [==============================] - 1s 138us/step - loss: 0.3255 - accuracy: 0.8664 - val_loss: 0.3516 - val_accuracy: 0.8637\n",
            "Epoch 57/100\n",
            "5359/5359 [==============================] - 1s 135us/step - loss: 0.3256 - accuracy: 0.8664 - val_loss: 0.3507 - val_accuracy: 0.8618\n",
            "Epoch 58/100\n",
            "5359/5359 [==============================] - 1s 134us/step - loss: 0.3253 - accuracy: 0.8656 - val_loss: 0.3513 - val_accuracy: 0.8607\n",
            "Epoch 59/100\n",
            "5359/5359 [==============================] - 1s 137us/step - loss: 0.3253 - accuracy: 0.8658 - val_loss: 0.3511 - val_accuracy: 0.8618\n",
            "Epoch 60/100\n",
            "5359/5359 [==============================] - 1s 137us/step - loss: 0.3252 - accuracy: 0.8655 - val_loss: 0.3510 - val_accuracy: 0.8633\n",
            "Epoch 61/100\n",
            "5359/5359 [==============================] - 1s 137us/step - loss: 0.3252 - accuracy: 0.8679 - val_loss: 0.3520 - val_accuracy: 0.8626\n",
            "Epoch 62/100\n",
            "5359/5359 [==============================] - 1s 135us/step - loss: 0.3253 - accuracy: 0.8670 - val_loss: 0.3522 - val_accuracy: 0.8644\n",
            "Epoch 63/100\n",
            "5359/5359 [==============================] - 1s 136us/step - loss: 0.3253 - accuracy: 0.8662 - val_loss: 0.3514 - val_accuracy: 0.8626\n",
            "Epoch 64/100\n",
            "5359/5359 [==============================] - 1s 135us/step - loss: 0.3250 - accuracy: 0.8684 - val_loss: 0.3511 - val_accuracy: 0.8622\n",
            "Epoch 65/100\n",
            "5359/5359 [==============================] - 1s 134us/step - loss: 0.3253 - accuracy: 0.8664 - val_loss: 0.3513 - val_accuracy: 0.8607\n",
            "Epoch 66/100\n",
            "5359/5359 [==============================] - 1s 134us/step - loss: 0.3252 - accuracy: 0.8666 - val_loss: 0.3513 - val_accuracy: 0.8633\n",
            "Epoch 67/100\n",
            "5359/5359 [==============================] - 1s 136us/step - loss: 0.3252 - accuracy: 0.8668 - val_loss: 0.3513 - val_accuracy: 0.8629\n",
            "Epoch 68/100\n",
            "5359/5359 [==============================] - 1s 137us/step - loss: 0.3251 - accuracy: 0.8666 - val_loss: 0.3513 - val_accuracy: 0.8622\n",
            "Epoch 69/100\n",
            "5359/5359 [==============================] - 1s 134us/step - loss: 0.3252 - accuracy: 0.8668 - val_loss: 0.3512 - val_accuracy: 0.8618\n",
            "Epoch 70/100\n",
            "5359/5359 [==============================] - 1s 136us/step - loss: 0.3251 - accuracy: 0.8671 - val_loss: 0.3521 - val_accuracy: 0.8629\n",
            "Epoch 71/100\n",
            "5359/5359 [==============================] - 1s 138us/step - loss: 0.3255 - accuracy: 0.8662 - val_loss: 0.3517 - val_accuracy: 0.8618\n",
            "Epoch 72/100\n",
            "5359/5359 [==============================] - 1s 135us/step - loss: 0.3251 - accuracy: 0.8662 - val_loss: 0.3513 - val_accuracy: 0.8622\n",
            "Epoch 73/100\n",
            "5359/5359 [==============================] - 1s 140us/step - loss: 0.3252 - accuracy: 0.8664 - val_loss: 0.3510 - val_accuracy: 0.8622\n",
            "Epoch 74/100\n",
            "5359/5359 [==============================] - 1s 135us/step - loss: 0.3251 - accuracy: 0.8662 - val_loss: 0.3511 - val_accuracy: 0.8622\n",
            "Epoch 75/100\n",
            "5359/5359 [==============================] - 1s 136us/step - loss: 0.3248 - accuracy: 0.8658 - val_loss: 0.3513 - val_accuracy: 0.8599\n",
            "Epoch 76/100\n",
            "5359/5359 [==============================] - 1s 137us/step - loss: 0.3250 - accuracy: 0.8664 - val_loss: 0.3515 - val_accuracy: 0.8599\n",
            "Epoch 77/100\n",
            "5359/5359 [==============================] - 1s 137us/step - loss: 0.3252 - accuracy: 0.8636 - val_loss: 0.3515 - val_accuracy: 0.8618\n",
            "Epoch 78/100\n",
            "5359/5359 [==============================] - 1s 135us/step - loss: 0.3252 - accuracy: 0.8670 - val_loss: 0.3514 - val_accuracy: 0.8626\n",
            "Epoch 79/100\n",
            "5359/5359 [==============================] - 1s 134us/step - loss: 0.3253 - accuracy: 0.8656 - val_loss: 0.3511 - val_accuracy: 0.8626\n",
            "Epoch 80/100\n",
            "5359/5359 [==============================] - 1s 135us/step - loss: 0.3252 - accuracy: 0.8670 - val_loss: 0.3518 - val_accuracy: 0.8637\n",
            "Epoch 81/100\n",
            "5359/5359 [==============================] - 1s 137us/step - loss: 0.3248 - accuracy: 0.8673 - val_loss: 0.3509 - val_accuracy: 0.8626\n",
            "Epoch 82/100\n",
            "5359/5359 [==============================] - 1s 136us/step - loss: 0.3250 - accuracy: 0.8653 - val_loss: 0.3512 - val_accuracy: 0.8603\n",
            "Epoch 83/100\n",
            "5359/5359 [==============================] - 1s 135us/step - loss: 0.3252 - accuracy: 0.8664 - val_loss: 0.3513 - val_accuracy: 0.8618\n",
            "Epoch 84/100\n",
            "5359/5359 [==============================] - 1s 136us/step - loss: 0.3246 - accuracy: 0.8673 - val_loss: 0.3511 - val_accuracy: 0.8633\n",
            "Epoch 85/100\n",
            "5359/5359 [==============================] - 1s 140us/step - loss: 0.3248 - accuracy: 0.8660 - val_loss: 0.3515 - val_accuracy: 0.8607\n",
            "Epoch 86/100\n",
            "5359/5359 [==============================] - 1s 136us/step - loss: 0.3250 - accuracy: 0.8651 - val_loss: 0.3516 - val_accuracy: 0.8629\n",
            "Epoch 87/100\n",
            "5359/5359 [==============================] - 1s 137us/step - loss: 0.3251 - accuracy: 0.8662 - val_loss: 0.3509 - val_accuracy: 0.8607\n",
            "Epoch 88/100\n",
            "5359/5359 [==============================] - 1s 137us/step - loss: 0.3249 - accuracy: 0.8662 - val_loss: 0.3503 - val_accuracy: 0.8618\n",
            "Epoch 89/100\n",
            "5359/5359 [==============================] - 1s 134us/step - loss: 0.3251 - accuracy: 0.8679 - val_loss: 0.3506 - val_accuracy: 0.8610\n",
            "Epoch 90/100\n",
            "5359/5359 [==============================] - 1s 136us/step - loss: 0.3250 - accuracy: 0.8660 - val_loss: 0.3508 - val_accuracy: 0.8629\n",
            "Epoch 91/100\n",
            "5359/5359 [==============================] - 1s 134us/step - loss: 0.3248 - accuracy: 0.8666 - val_loss: 0.3505 - val_accuracy: 0.8610\n",
            "Epoch 92/100\n",
            "5359/5359 [==============================] - 1s 136us/step - loss: 0.3249 - accuracy: 0.8671 - val_loss: 0.3508 - val_accuracy: 0.8633\n",
            "Epoch 93/100\n",
            "5359/5359 [==============================] - 1s 135us/step - loss: 0.3248 - accuracy: 0.8656 - val_loss: 0.3511 - val_accuracy: 0.8599\n",
            "Epoch 94/100\n",
            "5359/5359 [==============================] - 1s 134us/step - loss: 0.3249 - accuracy: 0.8675 - val_loss: 0.3508 - val_accuracy: 0.8618\n",
            "Epoch 95/100\n",
            "5359/5359 [==============================] - 1s 135us/step - loss: 0.3250 - accuracy: 0.8662 - val_loss: 0.3511 - val_accuracy: 0.8629\n",
            "Epoch 96/100\n",
            "5359/5359 [==============================] - 1s 136us/step - loss: 0.3249 - accuracy: 0.8671 - val_loss: 0.3511 - val_accuracy: 0.8637\n",
            "Epoch 97/100\n",
            "5359/5359 [==============================] - 1s 134us/step - loss: 0.3243 - accuracy: 0.8666 - val_loss: 0.3505 - val_accuracy: 0.8591\n",
            "Epoch 98/100\n",
            "5359/5359 [==============================] - 1s 137us/step - loss: 0.3248 - accuracy: 0.8670 - val_loss: 0.3513 - val_accuracy: 0.8603\n",
            "Epoch 99/100\n",
            "5359/5359 [==============================] - 1s 135us/step - loss: 0.3250 - accuracy: 0.8662 - val_loss: 0.3514 - val_accuracy: 0.8622\n",
            "Epoch 100/100\n",
            "5359/5359 [==============================] - 1s 138us/step - loss: 0.3248 - accuracy: 0.8683 - val_loss: 0.3514 - val_accuracy: 0.8599\n"
          ],
          "name": "stdout"
        },
        {
          "output_type": "execute_result",
          "data": {
            "text/plain": [
              "\"# list all data in history\\n\\nprint(model_history.history.keys())\\n# summarize history for accuracy\\nplt.plot(model_history.history['acc'])\\nplt.plot(model_history.history['val_acc'])\\nplt.title('model accuracy')\\nplt.ylabel('accuracy')\\nplt.xlabel('epoch')\\nplt.legend(['train', 'test'], loc='upper left')\\nplt.show()\""
            ]
          },
          "metadata": {
            "tags": []
          },
          "execution_count": 15
        }
      ]
    },
    {
      "cell_type": "code",
      "metadata": {
        "id": "07pvDQmE8lN7",
        "colab_type": "code",
        "colab": {}
      },
      "source": [
        "# Predicting the Test set results\n",
        "y_pred = classifier.predict(X_test)\n",
        "y_pred = (y_pred > 0.5)\n",
        "\n",
        "# Making the Confusion Matrix\n",
        "from sklearn.metrics import confusion_matrix\n",
        "cm = confusion_matrix(y_test, y_pred)\n",
        "\n",
        "# Calculate the Accuracy\n",
        "from sklearn.metrics import accuracy_score\n",
        "score=accuracy_score(y_pred,y_test)\n",
        "\n"
      ],
      "execution_count": 0,
      "outputs": []
    },
    {
      "cell_type": "code",
      "metadata": {
        "id": "Q_ZCuaGP8tyD",
        "colab_type": "code",
        "colab": {
          "base_uri": "https://localhost:8080/",
          "height": 51
        },
        "outputId": "357d3f35-a841-461e-d29e-1b181896e5e6"
      },
      "source": [
        "print(cm)"
      ],
      "execution_count": 17,
      "outputs": [
        {
          "output_type": "stream",
          "text": [
            "[[1500   95]\n",
            " [ 184  221]]\n"
          ],
          "name": "stdout"
        }
      ]
    },
    {
      "cell_type": "code",
      "metadata": {
        "id": "zp5PVvb_8xt9",
        "colab_type": "code",
        "colab": {
          "base_uri": "https://localhost:8080/",
          "height": 34
        },
        "outputId": "4e7ef46d-c5f2-48cb-8ef0-39f4a626e2b6"
      },
      "source": [
        "print(score)"
      ],
      "execution_count": 18,
      "outputs": [
        {
          "output_type": "stream",
          "text": [
            "0.8605\n"
          ],
          "name": "stdout"
        }
      ]
    }
  ]
}